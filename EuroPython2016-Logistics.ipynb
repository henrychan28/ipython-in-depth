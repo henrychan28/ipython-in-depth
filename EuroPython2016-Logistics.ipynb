{
 "cells": [
  {
   "cell_type": "markdown",
   "metadata": {
    "slideshow": {
     "slide_type": "slide"
    }
   },
   "source": [
    "<center><h1> Logistics for the\n",
    " <a href=\"https://ep2016.europython.eu/conference/talks/ipython-in-depth\"> **EuroPython 2016** </a>  <a href=\"https://github.com/mjbright/ipython-in-depth\"> *Ipython-in-depth tutorial* </a>\n",
    " </h1>\n",
    "<br/>Based on the <a href=\"https://github.com/ipython/ipython-in-depth\"> *official tutorial* </a>\n",
    "<br/><br/>\n",
    " Monday 18th July, Room E - 2:15 PM, Bilbao ;-)\n",
    " </center>\n"
   ]
  },
  {
   "cell_type": "markdown",
   "metadata": {
    "slideshow": {
     "slide_type": "fragment"
    }
   },
   "source": [
    "<br/>\n",
    "<center><h2>\n",
    "We will break for half an hour at 3:30 PM (Conference break)\n",
    "</h2>\n",
    "<br/>\n",
    "<h4>\n",
    "we will still be available to help on the exercises\n",
    "</h4><center>"
   ]
  },
  {
   "cell_type": "markdown",
   "metadata": {
    "slideshow": {
     "slide_type": "subslide"
    }
   },
   "source": [
    "# Setup-1: Open the tutorial page\n",
    "\n",
    "<br/>\n",
    "## Open the tutorial page on github\n",
    "- [github.com/mjbright/ipython-in-depth](https://github.com/mjbright/ipython-in-depth)\n",
    "\n",
    "<br/>\n",
    "## Open this document\n",
    "- [*EuroPython2016-Logistics.ipynb*](https://github.com/mjbright/ipython-in-depth/EuroPython2016-Logistics.ipynb)\n"
   ]
  },
  {
   "cell_type": "markdown",
   "metadata": {
    "collapsed": true,
    "slideshow": {
     "slide_type": "subslide"
    }
   },
   "source": [
    "# Setup-2: Gitter channel\n",
    "\n",
    "During the session you are encouraged to ask, and answer questions on the *Gitter Channel* here:\n",
    "- [*https://gitter.im/mjbright/ipython-in-depth*](https://gitter.im/mjbright/ipython-in-depth).\n",
    "\n",
    "<br/>\n",
    "#### Please connect to the Gitter Channel\n",
    "\n",
    "It is hoped that you can *help each other*.\n",
    "\n",
    "You are welcome - *and encouraged* - to provide feedback after the session on this channel.\n"
   ]
  },
  {
   "cell_type": "markdown",
   "metadata": {
    "slideshow": {
     "slide_type": "subslide"
    }
   },
   "source": [
    "# Setup-3: Download the tutorial repository\n",
    "Either perform a git clone\n",
    "- git clone https://github.com/mjbright/ipython-in-depth\n",
    "\n",
    "or download the zip file\n",
    "- on command-line, wget https://github.com/mjbright/ipython-in-depth/archive/master.zip\n",
    "\n",
    "or download a zip file from the github page (following page) or from this [link to master.zip](https://github.com/mjbright/ipython-in-depth/archive/master.zip)\n",
    "\n",
    "Then unzip the file"
   ]
  },
  {
   "cell_type": "markdown",
   "metadata": {
    "slideshow": {
     "slide_type": "subslide"
    }
   },
   "source": [
    "# Setup-4: Download the tutorial repository using the Browser\n",
    "\n",
    "select \"Clone or Ownload\" then \"Download ZIP\" ![](images/DownloadRepo.PNG)"
   ]
  },
  {
   "cell_type": "markdown",
   "metadata": {
    "slideshow": {
     "slide_type": "subslide"
    }
   },
   "source": [
    "# Setup-5: Jupyter Installation\n",
    "\n",
    "A quick [installation check](http://jupyter.readthedocs.io/en/latest/install.html)\n",
    "  * We recommend to install the Anaconda Python distribution\n",
    "  * USB keys are available\n",
    "    * signup on the Anaconda Download [page](https://www.continuum.io/downloads)\n",
    "  * Launch the notebook using the **jupyter notebook** command\n",
    "  * Open the *dashboard* by pointing your browser at\n",
    "    * [http://localhost:8888](http://localhost:8888)\n"
   ]
  },
  {
   "cell_type": "markdown",
   "metadata": {
    "slideshow": {
     "slide_type": "subslide"
    }
   },
   "source": [
    "# Setup-6: Jupyter Installation-2\n",
    "\n",
    "- If you see this in your Browser you're good to go !\n",
    "- If not please ask for help\n",
    "<img width=900  src=\"/files/images/ipython-in-depth_dashboard.PNG\" />\n"
   ]
  },
  {
   "cell_type": "markdown",
   "metadata": {
    "slideshow": {
     "slide_type": "subslide"
    }
   },
   "source": [
    "# Start: open the *Index - Basic.ipynb* notebook\n",
    "\n",
    "<img width=900  src=\"/files/images/IPythonInDepth_INDEXBasic.PNG\" />\n"
   ]
  }
 ],
 "metadata": {
  "celltoolbar": "Slideshow",
  "kernelspec": {
   "display_name": "Python [Root]",
   "language": "python",
   "name": "Python [Root]"
  },
  "language_info": {
   "codemirror_mode": {
    "name": "ipython",
    "version": 3
   },
   "file_extension": ".py",
   "mimetype": "text/x-python",
   "name": "python",
   "nbconvert_exporter": "python",
   "pygments_lexer": "ipython3",
   "version": "3.5.2"
  },
  "widgets": {
   "state": {},
   "version": "1.1.2"
  }
 },
 "nbformat": 4,
 "nbformat_minor": 0
}
