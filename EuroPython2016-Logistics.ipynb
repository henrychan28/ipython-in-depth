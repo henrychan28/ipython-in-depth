{
 "cells": [
  {
   "cell_type": "markdown",
   "metadata": {
    "slideshow": {
     "slide_type": "slide"
    }
   },
   "source": [
    "<center><h1> Logistics for the\n",
    " <a href=\"https://ep2016.europython.eu/conference/talks/ipython-in-depth\"> **EuroPython 2016** </a>  <a href=\"https://github.com/mjbright/ipython-in-depth\"> *Ipython-in-depth tutorial* </a>\n",
    " </h1>\n",
    "<br/>Based on the <a href=\"https://github.com/ipython/ipython-in-depth\"> *official tutorial* </a>\n",
    "<br/><br/>\n",
    " Monday 18th July, Room E - 2:15 PM, Bilbao ;-)\n",
    " </center>\n"
   ]
  },
  {
   "cell_type": "markdown",
   "metadata": {
    "slideshow": {
     "slide_type": "fragment"
    }
   },
   "source": [
    "<br/>\n",
    "<center><h2>\n",
    "We will break for half an hour at 3:30 PM (Conference break)\n",
    "</h2>\n",
    "<br/>\n",
    "<h4>\n",
    "we will still be available to help on the exercises\n",
    "</h4><center>"
   ]
  },
  {
   "cell_type": "markdown",
   "metadata": {
    "collapsed": true,
    "slideshow": {
     "slide_type": "subslide"
    }
   },
   "source": [
    "## Gitter channel\n",
    "\n",
    "During the session you are encouraged to ask, and answer questions on the *Gitter Channel* here:\n",
    "- [https://gitter.im/mjbright/ipython-in-depth](https://gitter.im/mjbright/ipython-in-depth).\n",
    "\n",
    "It is hoped that you can *help each other*.\n",
    "\n",
    "You are welcome - *and encouraged* - to provide feedback after the session on this channel.\n"
   ]
  },
  {
   "cell_type": "markdown",
   "metadata": {
    "slideshow": {
     "slide_type": "subslide"
    }
   },
   "source": [
    "# Jupyter Installation -1\n",
    "<br/>\n",
    "## Open the tutorial page on github\n",
    "- [github.com/mjbright/ipython-in-depth](https://github.com/mjbright/ipython-in-depth)\n",
    "\n",
    "## Open this document\n",
    "- [*EuroPython2016-Logistics.ipynb*](https://github.com/mjbright/ipython-in-depth/EuroPython2016-Logistics.ipynb)\n",
    "\n",
    "## Connect to the Gitter Channel\n",
    "- [*https://gitter.im/mjbright/ipython-in-depth*](https://gitter.im/mjbright/ipython-in-depth)\n",
    "\n",
    "<br/>\n",
    "## Read the following Jupyter Installation notes"
   ]
  },
  {
   "cell_type": "markdown",
   "metadata": {
    "slideshow": {
     "slide_type": "subslide"
    }
   },
   "source": [
    "# Jupyter Installation -2\n",
    "\n",
    "A quick [installation check](http://jupyter.readthedocs.io/en/latest/install.html)\n",
    "  * We recommend to install the Anaconda Python distribution\n",
    "  * USB keys are available\n",
    "    * signup on the Anaconda Download [page](https://www.continuum.io/downloads)\n",
    "  * Launch the notebook using the **jupyter notebook** command\n",
    "  * Open the *dashboard* by pointing your browser at\n",
    "    * [http://localhost:8888](http://localhost:8888)\n"
   ]
  },
  {
   "cell_type": "markdown",
   "metadata": {
    "slideshow": {
     "slide_type": "subslide"
    }
   },
   "source": [
    "# Jupyter Installation -3\n",
    "\n",
    "- If you see this in your Browser you're good to go !\n",
    "\n",
    "- If not please ask for help\n",
    "<img width=900  src=\"http://localhost:8889/files/images/ipython-in-depth_dashboard.PNG\" />\n"
   ]
  }
 ],
 "metadata": {
  "celltoolbar": "Slideshow",
  "kernelspec": {
   "display_name": "Python 3",
   "language": "python",
   "name": "python3"
  },
  "language_info": {
   "codemirror_mode": {
    "name": "ipython",
    "version": 3
   },
   "file_extension": ".py",
   "mimetype": "text/x-python",
   "name": "python",
   "nbconvert_exporter": "python",
   "pygments_lexer": "ipython3",
   "version": "3.5.1"
  },
  "widgets": {
   "state": {},
   "version": "1.1.2"
  }
 },
 "nbformat": 4,
 "nbformat_minor": 0
}
