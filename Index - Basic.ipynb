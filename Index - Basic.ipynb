{
 "cells": [
  {
   "cell_type": "markdown",
   "metadata": {
    "slideshow": {
     "slide_type": "slide"
    }
   },
   "source": [
    "# Jupyter/IPython: EuroPython 2016 tutorial\n",
    "<br/>\n",
    "**Note**: This repo is derived from the official IPython-in-Depth tutorial [here](https://github.com/ipython/ipython-in-depth) first presented at PyCon 2012."
   ]
  },
  {
   "cell_type": "markdown",
   "metadata": {
    "slideshow": {
     "slide_type": "subslide"
    }
   },
   "source": [
    "#### Setup\n",
    "* For discussion, self-help tips please connect to this\n",
    "  * [Gitter chat room](https://gitter.im/mjbright/ipython-in-depth)\n",
    "* Refer to the logistics page for installation information\n",
    "  *  [Logistics page on github](https://github.com/mjbright/ipython-in-depth/blob/master/EuroPython2016-Logistics.ipynb)\n",
    "  * [Local](/notebooks/EuroPython2016-Logistics.ipynb)"
   ]
  },
  {
   "cell_type": "markdown",
   "metadata": {
    "slideshow": {
     "slide_type": "slide"
    }
   },
   "source": [
    "# Working through the tutorial\n",
    "\n",
    "- We will first make sure you all have Jupyer installed and working\n",
    "- We then invite you to follow along during the tutorial\n",
    "- There will also be exercises along the way\n",
    "\n",
    "There are a lot (~ 100) more detailed notebooks in this same directory that cover other topics, but we can not cover all in a 3-hour tutorial.\n",
    "\n",
    "We encourage you to explore them and practice on your own.\n",
    "\n",
    "For even more detail, you can visit our [example collection](http://nbviewer.ipython.org/github/ipython/ipython/blob/master/examples/Index.ipynb) from our site, also included in this IPython source code repository."
   ]
  },
  {
   "cell_type": "markdown",
   "metadata": {
    "slideshow": {
     "slide_type": "subslide"
    }
   },
   "source": [
    " #### Class outline:\n",
    "* Overview of [Jupyter](http://jupyter.org) and [IPython](http://ipython.org) projects on the official websites.\n",
    "* Super basic intro to the [dashboard](/tree), notebook, [Jupyter Lab](/lab) alpha.\n",
    "* [Notebook Basics](examples/Notebook/Notebook Basics.ipynb)     \n",
    "* [IPython - beyond plain python](examples/IPython Kernel/Beyond Plain Python.ipynb)\n",
    "* [Markdown Cells](examples/Notebook/Working With Markdown Cells.ipynb)\n",
    "* [Rich Display System](examples/IPython Kernel/Rich Output.ipynb)\n",
    "* [Introduction to Interactive Javascript Widgets](examples/Interactive Widgets/Using Interact.ipynb)\n",
    "* [Customizing IPython - a condensed version **out of date**](exercises/Customization/Condensed.ipynb)\n",
    "* [Running a Secure Public Notebook Server](examples/Notebook/Running%20the%20Notebook%20Server.ipynb#Securing-the-notebook-server)\n",
    "* [How Jupyter/IPython works](examples/Notebook/Multiple%20Languages%2C%20Frontends.ipynb) to run code in different languages."
   ]
  },
  {
   "cell_type": "markdown",
   "metadata": {
    "slideshow": {
     "slide_type": "subslide"
    }
   },
   "source": [
    "# Resources-1\n",
    "After this tutorial you may be interested to look at the following pages\n",
    "- [Jupyter](http://jupyter.org) and [IPython](http://ipython.org) projects\n",
    "- [https://jupyter.readthedocs.io/](https://jupyter.readthedocs.io/en/latest/) and [http://ipython.readthedocs.io/](http://ipython.readthedocs.io/en/stable/)\n",
    "- Galleries of existing notebooks\n",
    "  - [https://nbviewer.org](https://nbviewer.org): submit your url, browse by theme\n",
    "  - [https://github.com](https://github.com):  *> 200k notebooks* [[*since May '15*]](http://blog.jupyter.org/2015/05/07/rendering-notebooks-on-github/)\n",
    "  - [IPython gallery](https://github.com/ipython/ipython/wiki/A-gallery-of-interesting-IPython-Notebooks): notebooks organized by domain\n",
    "  - [Notebook Gallery[http://nb.bianp.net/]** - view submitted notebooks by '*most viewed*' or '*data*\n",
    "- Available Kernels for other lanuages/environments: [kernels page](https://github.com/ipython/ipython/wiki/IPython-kernels-for-other-languages)"
   ]
  },
  {
   "cell_type": "markdown",
   "metadata": {
    "slideshow": {
     "slide_type": "subslide"
    }
   },
   "source": [
    "# Resources-2\n",
    "\n",
    "- Try Jupyter online\n",
    "  - [try.jupyter.org](https://try.jupyter.org)\n",
    "  - [mybinder.org](https://mybinder.org)\n",
    "    - [examples](https://github.com/binder-project?query=example)\n",
    "    - On github click on \"*launch binder*\" icons ![launch binder](https://camo.githubusercontent.com/70c5b4d050d4019f4f20b170d75679a9316ac5e5/687474703a2f2f6d7962696e6465722e6f72672f62616467652e737667)\n",
    "    \n",
    "- Also cloud hosted *data science* environments are available from\n",
    "  - Microsoft Azure [Azure ML Studio](https://studio.azureml.net/)\n",
    "  - IBM [Data Scientist Workbench](https://datascientistworkbench.com/)\n",
    "  - Google Cloud [DataLab](https://cloud.google.com/datalab/)"
   ]
  },
  {
   "cell_type": "markdown",
   "metadata": {
    "slideshow": {
     "slide_type": "subslide"
    }
   },
   "source": [
    "# Resources-3\n",
    "\n",
    "- Jupyter [Google Group](https://groups.google.com/forum/#!forum/jupyter)\n",
    "- Jupyter [Blog](http://blog.jupyter.org/)\n",
    "- IPython [Dev Mailing List](http://python.6.x6.nabble.com/IPython-Development-f1646922.html)\n",
    "- StackOverflow\n",
    "  - [Jupyter hot topics](http://stackoverflow.com/tags/jupyter/hot)\n",
    "  - [IPython hot topics](http://stackoverflow.com/tags/ipython-notebook/hot)"
   ]
  },
  {
   "cell_type": "markdown",
   "metadata": {
    "slideshow": {
     "slide_type": "subslide"
    }
   },
   "source": [
    "# Resources-4: Tools\n",
    "\n",
    "- [nbconvert](https://nbconvert.readthedocs.io/en/latest/): Execute or convert notebooks from command-line\n",
    "\n",
    "- [nbextensions](https://github.com/ipython-contrib/IPython-notebook-extensions) [nbextensions-dashboard](/nbextensions)\n",
    "\n",
    "- [RISE](https://github.com/damianavila/RISE): Live Reveal slideshows in the notebook\n",
    "  \n",
    "- [nbpresent](https://pypi.python.org/pypi/nbpresent): Another live slideshow tool\n",
    "\n"
   ]
  }
 ],
 "metadata": {
  "celltoolbar": "Slideshow",
  "kernelspec": {
   "display_name": "Python 3",
   "language": "python",
   "name": "python3"
  },
  "language_info": {
   "codemirror_mode": {
    "name": "ipython",
    "version": 3
   },
   "file_extension": ".py",
   "mimetype": "text/x-python",
   "name": "python",
   "nbconvert_exporter": "python",
   "pygments_lexer": "ipython3",
   "version": "3.5.1"
  },
  "livereveal": {
   "height": 768,
   "width": 1200
  },
  "widgets": {
   "state": {},
   "version": "1.1.2"
  }
 },
 "nbformat": 4,
 "nbformat_minor": 0
}
