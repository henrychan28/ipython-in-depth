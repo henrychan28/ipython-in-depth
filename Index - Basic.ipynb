{
 "cells": [
  {
   "cell_type": "markdown",
   "metadata": {
    "slideshow": {
     "slide_type": "slide"
    }
   },
   "source": [
    "# Jupyter/IPython: EuroPython 2016 tutorial\n",
    "<br/>\n",
    "**Note**: This repo is derived from the official IPython-in-Depth tutorial [here](https://github.com/ipython/ipython-in-depth) first presented at PyCon 2012."
   ]
  },
  {
   "cell_type": "markdown",
   "metadata": {
    "slideshow": {
     "slide_type": "subslide"
    }
   },
   "source": [
    "#### Setup\n",
    "* For discussion, self-help tips please connect to this\n",
    "  * [Gitter chat room](https://gitter.im/mjbright/ipython-in-depth)\n",
    "* Refer to the logistics page for installation information\n",
    "  *  [Logistics page on github](https://github.com/mjbright/ipython-in-depth/blob/master/EuroPython2016-Logistics.ipynb)"
   ]
  },
  {
   "cell_type": "markdown",
   "metadata": {
    "slideshow": {
     "slide_type": "slide"
    }
   },
   "source": [
    "# Working through the tutorial\n",
    "\n",
    "- We will first make sure you all have Jupyer installed and working\n",
    "- We then invite you to follow along during the tutorial\n",
    "- There will also be exercises along the way\n",
    "\n",
    "There are a lot (~ 100) more detailed notebooks in this same directory that cover other topics, but we can not cover all in a 3-hour tutorial.\n",
    "\n",
    "We encourage you to explore them and practice on your own.\n",
    "\n",
    "For even more detail, you can visit our [example collection](http://nbviewer.ipython.org/github/ipython/ipython/blob/master/examples/Index.ipynb) from our site, also included in this IPython source code repository."
   ]
  },
  {
   "cell_type": "markdown",
   "metadata": {
    "slideshow": {
     "slide_type": "subslide"
    }
   },
   "source": [
    " #### Class outline:\n",
    "* Overview of [Jupyter](http://jupyter.org) and [IPython](http://ipython.org) projects on the official websites.\n",
    "* Super basic intro to the dashboard, notebook, Jupyter Lab alpha.\n",
    "* [Notebook Basics](examples/Notebook/Notebook Basics.ipynb)     \n",
    "* [IPython - beyond plain python](examples/IPython Kernel/Beyond Plain Python.ipynb)\n",
    "* [Markdown Cells](examples/Notebook/Working With Markdown Cells.ipynb)\n",
    "* [Rich Display System](examples/IPython Kernel/Rich Output.ipynb)\n",
    "* [Introduction to Interactive Javascript Widgets](examples/Interactive Widgets/Using Interact.ipynb)\n",
    "* [Customizing IPython - a condensed version](exercises/Customization/Condensed.ipynb)\n",
    "* [Running a Secure Public Notebook Server](examples/Notebook/Running%20the%20Notebook%20Server.ipynb#Securing-the-notebook-server)\n",
    "* [How Jupyter/IPython works](examples/Notebook/Multiple%20Languages%2C%20Frontends.ipynb) to run code in different languages."
   ]
  }
 ],
 "metadata": {
  "celltoolbar": "Slideshow",
  "kernelspec": {
   "display_name": "Python 3",
   "language": "python",
   "name": "python3"
  },
  "language_info": {
   "codemirror_mode": {
    "name": "ipython",
    "version": 3
   },
   "file_extension": ".py",
   "mimetype": "text/x-python",
   "name": "python",
   "nbconvert_exporter": "python",
   "pygments_lexer": "ipython3",
   "version": "3.5.1"
  },
  "livereveal": {
   "height": 768,
   "width": 1200
  },
  "widgets": {
   "state": {},
   "version": "1.1.2"
  }
 },
 "nbformat": 4,
 "nbformat_minor": 0
}
